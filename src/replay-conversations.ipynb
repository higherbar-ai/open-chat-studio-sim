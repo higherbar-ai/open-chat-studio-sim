{
 "cells": [
  {
   "metadata": {},
   "cell_type": "markdown",
   "source": [
    "# Replay conversations\n",
    "\n",
    "This notebook replays conversations using an Open Chat Studio experiment. Before running, you should:\n",
    "\n",
    "## 1. Set up the project overall\n",
    "\n",
    "Follow the overall project setup instructions in `README.md`.\n",
    "\n",
    "## 2. Configure your .ini file\n",
    "\n",
    "The notebook begins by loading credentials and configuration from an `.ini` file stored in `~/.ocs/open-chat-studio-sim.ini`. The `~` in the path refers to the current user's home directory, and the `.ini` file contents should follow this format:\n",
    "\n",
    "    [ocs]\n",
    "    ocs-api-key=YOURKEYHERE\n",
    "    experiment-id=YOURIDHERE\n",
    "    participant-id=open-chat-studio-sim\n",
    "    \n",
    "    [files]\n",
    "    input-path-prefix=~/ocs-sim/inputs\n",
    "    output-path-prefix=~/ocs-sim/outputs\n",
    "    \n",
    "    [athina]\n",
    "    athina-api-key=\n",
    "\n",
    "You can get started quickly by:\n",
    "\n",
    "1. Copying the `example-open-chat-studio-sim.ini` file to `~/.ocs/open-chat-studio-sim.ini`.\n",
    "\n",
    "2. Editing `~/.ocs/open-chat-studio-sim.ini` as follows:\n",
    "\n",
    "    a. Add your Open Chat Studio API key\n",
    "\n",
    "    b. Add the experiment ID for the experiment you want to replay conversations with\n",
    " \n",
    "    c. Adjust the input and output path prefixes as appropriate (where `~` refers to your user home directory)\n",
    "\n",
    "    d. Optionally, add an Athina API key if you want to export results as a dataset in Athina\n",
    "\n",
    "## 4. Save input file to your configured input path\n",
    "\n",
    "Your configured input path should include a `conversations_to_replay.csv` file that follows the format of experiment session exports in Open Chat Studio. The columns we rely on here are:\n",
    "\n",
    "- `Message ID`: the unique identifier for the chat message\n",
    "- `Message Type`: the chat message type (`human` or `ai`)\n",
    "- `Message Content`: the chat message\n",
    "- `Session ID`: the unique session ID for the conversation\n",
    "\n",
    "Finally, note that supporting code for this notebook can be found in `ocs_api.py` and `ocs_simulation_support.py`."
   ],
   "id": "c978324bbea2d097"
  },
  {
   "cell_type": "code",
   "id": "initial_id",
   "metadata": {
    "collapsed": true,
    "ExecuteTime": {
     "end_time": "2024-09-05T18:19:28.482955Z",
     "start_time": "2024-09-05T18:19:28.410391Z"
    }
   },
   "source": [
    "import logging\n",
    "import configparser\n",
    "import os\n",
    "\n",
    "# set log level to WARNING\n",
    "logging.basicConfig(level=logging.WARNING)\n",
    "\n",
    "# load credentials and other configuration from local ini file\n",
    "inifile_location = os.path.expanduser(\"~/.ocs/open-chat-studio-sim.ini\")\n",
    "inifile = configparser.RawConfigParser()\n",
    "inifile.read(inifile_location)\n",
    "\n",
    "# load configuration\n",
    "ocs_api_key = inifile.get(\"ocs\", \"ocs-api-key\")\n",
    "experiment_id = inifile.get(\"ocs\", \"experiment-id\")\n",
    "participant_id = inifile.get(\"ocs\", \"participant-id\")\n",
    "input_path_prefix = os.path.expanduser(inifile.get(\"files\", \"input-path-prefix\"))\n",
    "output_path_prefix = os.path.expanduser(inifile.get(\"files\", \"output-path-prefix\"))\n",
    "athina_api_key = inifile.get(\"athina\", \"athina-api-key\")\n",
    "\n",
    "# initialize OCS API support\n",
    "from ocs_api import OCSAPIClient\n",
    "ocs_api_client = OCSAPIClient(ocs_api_key)\n",
    "\n",
    "# report results\n",
    "print(\"Local configuration loaded, OCS API initialized.\")"
   ],
   "outputs": [
    {
     "name": "stdout",
     "output_type": "stream",
     "text": [
      "Local configuration loaded, OCS API initialized.\n"
     ]
    }
   ],
   "execution_count": 1
  },
  {
   "metadata": {},
   "cell_type": "markdown",
   "source": [
    "## Replay conversations\n",
    "\n",
    "The following code block reads each human message from the `conversations_to_replay.csv` file in the configured input path, fetches a new AI response from each (using _the original conversation history_), and saves the results to the `replayed_conversations.csv` file in the configured output path. \n",
    "\n",
    "`conversations_to_replay.csv` should follow the format of Open Chat Studio experiment session exports. The columns used here are:\n",
    "\n",
    "- `Message ID`: the unique identifier for the chat message\n",
    "- `Message Type`: the chat message type (`human` or `ai`)\n",
    "- `Message Content`: the chat message\n",
    "- `Session ID`: the unique session ID for the conversation\n",
    "\n",
    "`replayed_conversations.csv` will have the following columns:\n",
    "\n",
    "- `message_id`: the unique identifier for the original query\n",
    "- `session_id`: the unique identifier for the _original_ experiment session being replayed (links conversations)\n",
    "- `replay_session_id`: the unique identifier for the _new_ experiment session created during replay\n",
    "- `query`: the query sent to the AI assistant\n",
    "- `response`: the response received from the AI assistant\n",
    "- `orig_response`: the original response received from the AI assistant\n",
    "- `context`: the raw conversation history included at the time of replay"
   ],
   "id": "910365de62ca7fa"
  },
  {
   "metadata": {
    "ExecuteTime": {
     "end_time": "2024-09-05T18:20:33.370848Z",
     "start_time": "2024-09-05T18:19:28.483922Z"
    }
   },
   "cell_type": "code",
   "source": [
    "import csv\n",
    "import pandas as pd\n",
    "import json\n",
    "\n",
    "# load input file using pandas\n",
    "input_file = os.path.join(input_path_prefix, \"conversations_to_replay.csv\")\n",
    "conversations_to_replay = pd.read_csv(input_file)\n",
    "\n",
    "# run through and replay each step of each conversation\n",
    "results = []\n",
    "orig_session_id = \"\"\n",
    "orig_messages = []\n",
    "user_message = \"\"\n",
    "user_message_id = \"\"\n",
    "session_id = \"\"\n",
    "for index, row in conversations_to_replay.iterrows():\n",
    "    if orig_session_id != row[\"Session ID\"]:\n",
    "        # initialize for new conversations\n",
    "        orig_session_id = row[\"Session ID\"]\n",
    "        orig_messages = []\n",
    "        user_message = \"\"\n",
    "        user_message_id = \"\"\n",
    "    \n",
    "    if row[\"Message Type\"] == \"human\":\n",
    "        # remember user message, but only process when we get to the original AI response\n",
    "        user_message = row[\"Message Content\"]\n",
    "        user_message_id = row[\"Message ID\"]\n",
    "    elif user_message and row[\"Message Type\"] == \"ai\":\n",
    "        # remember original AI response\n",
    "        orig_response = row[\"Message Content\"]\n",
    "        \n",
    "        # replay conversation step, catching and logging any errors\n",
    "        try:\n",
    "            # create a new session for the step, including the original conversation history\n",
    "            api_response = ocs_api_client.create_experiment_session(experiment_id, participant_id, orig_messages)\n",
    "            session_id = api_response[\"id\"]\n",
    "        \n",
    "            # send the user message to the experiment\n",
    "            api_response = ocs_api_client.send_new_api_message(experiment_id, user_message, session_id)\n",
    "            response = api_response[\"response\"]\n",
    "        except Exception as e:\n",
    "            # log the error and continue to the next query\n",
    "            logging.error(f\"Continuing following error fetching conversation response: {str(e)}\")\n",
    "            response = f\"ERROR: {str(e)}\"\n",
    "    \n",
    "        # add to results\n",
    "        results.append({\n",
    "            \"message_id\": user_message_id,\n",
    "            \"session_id\": orig_session_id,\n",
    "            \"replay_session_id\": session_id,\n",
    "            \"query\": user_message,\n",
    "            \"response\": response,\n",
    "            \"orig_response\": orig_response,\n",
    "            \"context\": json.dumps(orig_messages)\n",
    "        })\n",
    "        \n",
    "        # add original exchange to message history\n",
    "        orig_messages.append({\n",
    "            \"role\": \"user\",\n",
    "            \"content\": user_message\n",
    "        })\n",
    "        orig_messages.append({\n",
    "            \"role\": \"assistant\",\n",
    "            \"content\": orig_response\n",
    "        })\n",
    "\n",
    "# save results to output .csv file\n",
    "output_file = os.path.join(output_path_prefix, \"replayed_conversations.csv\")\n",
    "output_rows = []\n",
    "fieldnames=[\"message_id\", \"session_id\", \"replay_session_id\", \"query\", \"response\", \"orig_response\", \"context\"]\n",
    "with open(output_file, \"w\", newline=\"\") as csvfile:\n",
    "    writer = csv.DictWriter(csvfile, fieldnames=fieldnames, quoting=csv.QUOTE_NONNUMERIC, escapechar='\\\\')\n",
    "    writer.writeheader()\n",
    "    for result in results:\n",
    "        # output and record for potential next steps\n",
    "        writer.writerow(result)\n",
    "        output_rows.append(result)\n",
    "\n",
    "# report results\n",
    "print(f\"Conversations replayed and {len(results)} results saved to {output_file}.\")"
   ],
   "id": "f4f25eef6e656fad",
   "outputs": [
    {
     "name": "stdout",
     "output_type": "stream",
     "text": [
      "Conversations replayed and 12 results saved to /Users/crobert/Files/ocs-sim/outputs/replayed_conversations.csv.\n"
     ]
    }
   ],
   "execution_count": 2
  },
  {
   "metadata": {},
   "cell_type": "markdown",
   "source": [
    "## Optional: Export results to Athina dataset\n",
    "\n",
    "If an Athina API key is configured, the results can be exported to an Athina dataset. The dataset will be named `replayed-conversations-{experiment_id}-{timestamp}` and will contain the rows from the `replayed_conversations.csv` file."
   ],
   "id": "44962167caf10449"
  },
  {
   "metadata": {
    "ExecuteTime": {
     "end_time": "2024-09-05T18:20:35.524688Z",
     "start_time": "2024-09-05T18:20:33.372051Z"
    }
   },
   "cell_type": "code",
   "source": [
    "from ocs_simulation_support import athina_create_dataset\n",
    "\n",
    "# optionally export the results to an Athina dataset\n",
    "if athina_api_key:\n",
    "    # push new dataset to Athina\n",
    "    dataset_name = f\"replayed-conversations-{experiment_id}-{pd.Timestamp.now().strftime('%Y%m%d%H%M%S')}\"\n",
    "    dataset_description = f\"Replayed conversations for experiment {experiment_id} at {pd.Timestamp.now()}\"\n",
    "    try:\n",
    "        dataset = athina_create_dataset(athina_api_key=athina_api_key, dataset_name=dataset_name, dataset_description=dataset_description, dataset_rows=output_rows)\n",
    "    except Exception as e:\n",
    "        print(f\"Failed to create Athina dataset: {e}\")\n",
    "    else:\n",
    "        print(f\"Results exported to Athina dataset {dataset.id} (name: {dataset_name}).\")"
   ],
   "id": "d3a526e15a3accc2",
   "outputs": [
    {
     "name": "stdout",
     "output_type": "stream",
     "text": [
      "Results exported to Athina dataset 3fcc1d12-10b2-4a27-95e9-729005248455 (name: replayed-conversations-f721dce8-1e6e-4aff-a7ab-81459b255ed8-20240905142035).\n"
     ]
    }
   ],
   "execution_count": 3
  }
 ],
 "metadata": {
  "kernelspec": {
   "display_name": "Python 3",
   "language": "python",
   "name": "python3"
  },
  "language_info": {
   "codemirror_mode": {
    "name": "ipython",
    "version": 2
   },
   "file_extension": ".py",
   "mimetype": "text/x-python",
   "name": "python",
   "nbconvert_exporter": "python",
   "pygments_lexer": "ipython2",
   "version": "2.7.6"
  }
 },
 "nbformat": 4,
 "nbformat_minor": 5
}
