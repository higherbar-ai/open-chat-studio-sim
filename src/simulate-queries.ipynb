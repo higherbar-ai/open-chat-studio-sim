{
 "cells": [
  {
   "metadata": {},
   "cell_type": "markdown",
   "source": [
    "# Execute fixed queries\n",
    "\n",
    "This notebook executes a fixed set of single-turn queries against an Open Chat Studio experiment. Before running, you should:\n",
    "\n",
    "## 1. Set up the project overall\n",
    "\n",
    "Follow the overall project setup instructions in `README.md`.\n",
    "\n",
    "## 2. Configure your .ini file\n",
    "\n",
    "The notebook begins by loading credentials and configuration from an `.ini` file stored in `~/.ocs/open-chat-studio-sim.ini`. The `~` in the path refers to the current user's home directory, and the `.ini` file contents should follow this format:\n",
    "\n",
    "    [ocs]\n",
    "    ocs-api-key=YOURKEYHERE\n",
    "    experiment-id=YOURIDHERE\n",
    "    participant-id=open-chat-studio-sim\n",
    "    \n",
    "    [files]\n",
    "    input-path-prefix=~/ocs-sim/inputs\n",
    "    output-path-prefix=~/ocs-sim/outputs\n",
    "    \n",
    "    [athina]\n",
    "    athina-api-key=\n",
    "\n",
    "You can get started quickly by:\n",
    "\n",
    "1. Copying the `example-open-chat-studio-sim.ini` file to `~/.ocs/open-chat-studio-sim.ini`.\n",
    "\n",
    "2. Editing `~/.ocs/open-chat-studio-sim.ini` as follows:\n",
    "\n",
    "    a. Add your Open Chat Studio API key\n",
    "\n",
    "    b. Add the experiment ID for the experiment you want to issue queries to\n",
    " \n",
    "    c. Adjust the input and output path prefixes as appropriate (where `~` refers to your user home directory)\n",
    "\n",
    "    d. Optionally, add an Athina API key if you want to export results as a dataset in Athina\n",
    "\n",
    "## 4. Save input file to your configured input path\n",
    "\n",
    "Your configured input path should include a `queries_to_run.csv` file with the following columns:\n",
    "\n",
    "- `query`: the query to send to the experiment\n",
    "- `query_id`: (optional) a unique identifier for the query (if not provided, row number will be used)\n",
    "- `expected_response`: (optional) the expected response to the query\n",
    "\n",
    "Finally, note that supporting code for this notebook can be found in `ocs_api.py` and `ocs_simulation_support.py`."
   ],
   "id": "b81674964944ba23"
  },
  {
   "metadata": {
    "ExecuteTime": {
     "end_time": "2024-09-05T17:59:49.692674Z",
     "start_time": "2024-09-05T17:59:49.615719Z"
    }
   },
   "cell_type": "code",
   "source": [
    "import logging\n",
    "import configparser\n",
    "import os\n",
    "\n",
    "# set log level to WARNING\n",
    "logging.basicConfig(level=logging.WARNING)\n",
    "\n",
    "# load credentials and other configuration from local ini file\n",
    "inifile_location = os.path.expanduser(\"~/.ocs/open-chat-studio-sim.ini\")\n",
    "inifile = configparser.RawConfigParser()\n",
    "inifile.read(inifile_location)\n",
    "\n",
    "# load configuration\n",
    "ocs_api_key = inifile.get(\"ocs\", \"ocs-api-key\")\n",
    "experiment_id = inifile.get(\"ocs\", \"experiment-id\")\n",
    "participant_id = inifile.get(\"ocs\", \"participant-id\")\n",
    "input_path_prefix = os.path.expanduser(inifile.get(\"files\", \"input-path-prefix\"))\n",
    "output_path_prefix = os.path.expanduser(inifile.get(\"files\", \"output-path-prefix\"))\n",
    "athina_api_key = inifile.get(\"athina\", \"athina-api-key\")\n",
    "\n",
    "# initialize OCS API support\n",
    "from ocs_api import OCSAPIClient\n",
    "ocs_api_client = OCSAPIClient(ocs_api_key)\n",
    "\n",
    "# report results\n",
    "print(\"Local configuration loaded, OCS API initialized.\")"
   ],
   "id": "initial_id",
   "outputs": [
    {
     "name": "stdout",
     "output_type": "stream",
     "text": [
      "Local configuration loaded, OCS API initialized.\n"
     ]
    }
   ],
   "execution_count": 1
  },
  {
   "metadata": {},
   "cell_type": "markdown",
   "source": [
    "## Execute queries\n",
    "\n",
    "The following code block reads a list of queries to run from the `queries_to_run.csv` file in the configured input path, executes them, and saves the results to the `query_results.csv` file in the configured output path. \n",
    "\n",
    "`queries_to_run.csv` should have the following columns:\n",
    "\n",
    "- `query`: the query to send to the experiment\n",
    "- `query_id`: (optional) a unique identifier for the query (if not provided, row number will be used)\n",
    "- `expected_response`: (optional) the expected response to the query\n",
    "\n",
    "`query_results.csv` will have the following columns:\n",
    "\n",
    "- `query_id`: the unique identifier for the query\n",
    "- `session_id`: the unique identifier for the session\n",
    "- `query`: the query sent to the AI assistant\n",
    "- `response`: the response received from the AI assistant\n",
    "- `expected_response`: (optional) the expected response for the query (if provided in the input file)"
   ],
   "id": "c71c645a2078bc1"
  },
  {
   "metadata": {
    "ExecuteTime": {
     "end_time": "2024-09-05T17:59:56.350535Z",
     "start_time": "2024-09-05T17:59:49.693714Z"
    }
   },
   "cell_type": "code",
   "source": [
    "import csv\n",
    "import pandas as pd\n",
    "\n",
    "# load input file using pandas\n",
    "input_file = os.path.join(input_path_prefix, \"queries_to_run.csv\")\n",
    "queries_to_run = pd.read_csv(input_file)\n",
    "\n",
    "# run through and execute each of the queries\n",
    "results = []\n",
    "for index, row in queries_to_run.iterrows():\n",
    "    # initialize query details\n",
    "    query_id = str(row.get(\"query_id\", index+1))\n",
    "    query = row[\"query\"]\n",
    "    expected_response = row.get(\"expected_response\", \"\")\n",
    "    response = \"\"\n",
    "    session_id = \"\"\n",
    "    \n",
    "    # execute query, catching and logging any errors\n",
    "    try:\n",
    "        # create a new session for the query\n",
    "        api_response = ocs_api_client.create_experiment_session(experiment_id, participant_id)\n",
    "        session_id = api_response[\"id\"]\n",
    "    \n",
    "        # send the query to the experiment\n",
    "        api_response = ocs_api_client.send_new_api_message(experiment_id, query, session_id)\n",
    "        response = api_response[\"response\"]\n",
    "    except Exception as e:\n",
    "        # log the error and continue to the next query\n",
    "        logging.error(f\"Continuing following query error: {str(e)}\")\n",
    "        response = f\"ERROR: {str(e)}\"\n",
    "\n",
    "    # add to results\n",
    "    results.append({\n",
    "        \"query_id\": query_id,\n",
    "        \"session_id\": session_id,\n",
    "        \"query\": query,\n",
    "        \"response\": response\n",
    "    })\n",
    "    # optionally add expected response to results\n",
    "    if \"expected_response\" in queries_to_run.columns:\n",
    "        results[-1][\"expected_response\"] = expected_response\n",
    "\n",
    "# save results to output .csv file\n",
    "output_file = os.path.join(output_path_prefix, \"query_results.csv\")\n",
    "output_rows = []\n",
    "fieldnames=[\"query_id\", \"session_id\", \"query\", \"response\"]\n",
    "# if there's an expected_response column in the input file, include it in the output\n",
    "if \"expected_response\" in queries_to_run.columns:\n",
    "    fieldnames.append(\"expected_response\")\n",
    "with open(output_file, \"w\", newline=\"\") as csvfile:\n",
    "    writer = csv.DictWriter(csvfile, fieldnames=fieldnames, quoting=csv.QUOTE_NONNUMERIC, escapechar='\\\\')\n",
    "    writer.writeheader()\n",
    "    for result in results:\n",
    "        # output and record for potential next steps\n",
    "        writer.writerow(result)\n",
    "        output_rows.append(result)\n",
    "\n",
    "# report results\n",
    "print(f\"Queries executed and {len(results)} results saved to {output_file}.\")"
   ],
   "id": "5667cf21b85d77a6",
   "outputs": [
    {
     "name": "stdout",
     "output_type": "stream",
     "text": [
      "Queries executed and 3 results saved to /Users/crobert/Files/ocs-sim/outputs/query_results.csv.\n"
     ]
    }
   ],
   "execution_count": 2
  },
  {
   "metadata": {},
   "cell_type": "markdown",
   "source": [
    "## Optional: Export results to Athina dataset\n",
    "\n",
    "If an Athina API key is configured, the results can be exported to an Athina dataset. The dataset will be named `queries-{experiment_id}-{timestamp}` and will contain the rows from the `query_results.csv` file."
   ],
   "id": "61e4b07bac0c1755"
  },
  {
   "metadata": {
    "ExecuteTime": {
     "end_time": "2024-09-05T17:59:58.722533Z",
     "start_time": "2024-09-05T17:59:56.351392Z"
    }
   },
   "cell_type": "code",
   "source": [
    "from ocs_simulation_support import athina_create_dataset\n",
    "\n",
    "# optionally export the results to an Athina dataset\n",
    "if athina_api_key:\n",
    "    # push new dataset to Athina\n",
    "    dataset_name = f\"queries-{experiment_id}-{pd.Timestamp.now().strftime('%Y%m%d%H%M%S')}\"\n",
    "    dataset_description = f\"Simulated queries for experiment {experiment_id} at {pd.Timestamp.now()}\"\n",
    "    try:\n",
    "        dataset = athina_create_dataset(athina_api_key=athina_api_key, dataset_name=dataset_name, dataset_description=dataset_description, dataset_rows=output_rows)\n",
    "    except Exception as e:\n",
    "        print(f\"Failed to create Athina dataset: {e}\")\n",
    "    else:\n",
    "        print(f\"Results exported to Athina dataset {dataset.id} (name: {dataset_name}).\")"
   ],
   "id": "420b2ccb22a29b94",
   "outputs": [
    {
     "name": "stdout",
     "output_type": "stream",
     "text": [
      "Results exported to Athina dataset 1b08d3ef-366a-4ecf-ac51-8c0a03c6358a (name: queries-f721dce8-1e6e-4aff-a7ab-81459b255ed8-20240905135958).\n"
     ]
    }
   ],
   "execution_count": 3
  }
 ],
 "metadata": {
  "kernelspec": {
   "display_name": "Python 3",
   "language": "python",
   "name": "python3"
  },
  "language_info": {
   "codemirror_mode": {
    "name": "ipython",
    "version": 2
   },
   "file_extension": ".py",
   "mimetype": "text/x-python",
   "name": "python",
   "nbconvert_exporter": "python",
   "pygments_lexer": "ipython2",
   "version": "2.7.6"
  }
 },
 "nbformat": 4,
 "nbformat_minor": 5
}
