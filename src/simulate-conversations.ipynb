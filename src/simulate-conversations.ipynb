{
 "cells": [
  {
   "metadata": {},
   "cell_type": "markdown",
   "source": [
    "# Simulate conversations\n",
    "\n",
    "This notebook simulates OCS conversations by using one bot to simulate users interacting with another bot. Before running, you should:\n",
    "\n",
    "## 1. Set up the project overall\n",
    "\n",
    "Follow the overall project setup instructions in `README.md`.\n",
    "\n",
    "## 2. Set up a user simulator experiment\n",
    "\n",
    "You will need an experiment configured to simulate user interactions from the user side. This experiment should be set up to expect a persona description and any other context in its first user message, respond with an initial user message to begin the conversation, and then carry on to simulate that persona in all subsequent messages until finally sending a one-word response of \"END\" to end the simulated conversation. For example, here is the prompt text for an example experiment named `U.S. Health Advice - User Simulator`:\n",
    "\n",
    "    You are a helpful user simulator for testing a U.S. Health Advice AI assistant. \n",
    "    \n",
    "    The first message you receive from the user will describe the kind of user you should simulate. For example, you might be told that you are to simulate a 42-year-old male with daily headaches that started two weeks ago and have slowly worsened. Your response to that first message should be an initial message to send to the AI assistant, with no prefix or suffix; your response will be sent directly to the AI assistant to begin the conversation. Do your best to simulate what a real humans with the described persona and context would say to begin a conversation in this context. \n",
    "    \n",
    "    All subsequent messages you receive from the user will be messages from a U.S. Health Advice AI assistant, beginning with its response to your initial message. You should respond to each of these messages \"in character,\" acting as the persona described in the first user message. While you should use the persona description to guide your interactions with the AI assistant, it will be far from complete; feel free to make up additional details to fill in gaps in the persona, symptoms, etc. as necessary to plausibly simulate a human user interacting with a health advice assistant. \n",
    "\n",
    "    Continue to ask and answer questions until you expect a normal human with the described persona would end the conversation. To end the conversation after receiving any AI message, respond to any AI message with one word alone (with nothing before or after it):\n",
    "\n",
    "    END\n",
    "\n",
    "    To be clear, never add \"END\" to the end of a message for the assistant. I.e., the assistant will always have the last word, in response to which you can use END (alone) to end the conversation.\n",
    "\n",
    "    Finally: do not continue conversations for more time than a regular human with the described persona would, and under no circumstances should you continue beyond 50 back-and-forth interactions between you and the AI assistant.\n",
    "    \n",
    "You can customize your simulator prompt text to suit your needs, but it should always instruct the AI to:\n",
    " \n",
    "1. Expect persona and context details in user message #1 \n",
    "2. Respond with an initial message to begin the conversation\n",
    "3. Respond to subsequent user messages as the persona described in the first user message\n",
    "4. End the conversation with a one-word response of \"END\" \n",
    "\n",
    "## 3. Configure your .ini file\n",
    "\n",
    "The notebook begins by loading credentials and configuration from an `.ini` file stored in `~/.ocs/open-chat-studio-sim.ini`. The `~` in the path refers to the current user's home directory, and the `.ini` file contents should follow this format:\n",
    "\n",
    "    [ocs]\n",
    "    ocs-api-key=YOURKEYHERE\n",
    "    experiment-id=YOURIDHERE\n",
    "    user-simulator-experiment-id=YOURIDHERE\n",
    "    participant-id=open-chat-studio-sim\n",
    "    \n",
    "    [files]\n",
    "    input-path-prefix=~/ocs-sim/inputs\n",
    "    output-path-prefix=~/ocs-sim/outputs\n",
    "    \n",
    "    [athina]\n",
    "    athina-api-key=\n",
    "\n",
    "You can get started quickly by:\n",
    "\n",
    "1. Copying the `example-open-chat-studio-sim.ini` file to `~/.ocs/open-chat-studio-sim.ini`.\n",
    "\n",
    "2. Editing `~/.ocs/open-chat-studio-sim.ini` as follows:\n",
    "\n",
    "    a. Add your Open Chat Studio API key\n",
    "\n",
    "    b. Add the experiment ID for the experiment you want to simulate user interactions with\n",
    "\n",
    "    c. Add the experiment ID for the user simulator experiment you set up in step 2 \n",
    "\n",
    "    d. Adjust the input and output path prefixes as appropriate (where `~` refers to your user home directory)\n",
    "\n",
    "    e. Optionally, add an Athina API key if you want to export results as a dataset in Athina\n",
    "\n",
    "## 4. Save input file to your configured input path\n",
    "\n",
    "Your configured input path should include a `simulations_to_run.csv` file with the following columns:\n",
    "\n",
    "- `context`: a description of the context to simulate, which will be sent to the user simulator experiment as the first message (should include everything needed to simulate a user, including background information, why the user is coming to interact with the bot, etc.)\n",
    "- `simulation_id`: (optional) a unique identifier for the simulation (if not provided, row number will be used)\n",
    "\n",
    "Finally, note that supporting code for this notebook can be found in `ocs_api.py` and `ocs_simulation_support.py`."
   ],
   "id": "21547cf53ee99ef3"
  },
  {
   "cell_type": "code",
   "id": "initial_id",
   "metadata": {
    "collapsed": true,
    "ExecuteTime": {
     "end_time": "2024-09-05T16:08:26.059650Z",
     "start_time": "2024-09-05T16:08:23.654742Z"
    }
   },
   "source": [
    "import logging\n",
    "import configparser\n",
    "import os\n",
    "\n",
    "# set log level to WARNING\n",
    "logging.basicConfig(level=logging.WARNING)\n",
    "\n",
    "# load credentials and other configuration from local ini file\n",
    "inifile_location = os.path.expanduser(\"~/.ocs/open-chat-studio-sim.ini\")\n",
    "inifile = configparser.RawConfigParser()\n",
    "inifile.read(inifile_location)\n",
    "\n",
    "# load configuration\n",
    "ocs_api_key = inifile.get(\"ocs\", \"ocs-api-key\")\n",
    "experiment_id = inifile.get(\"ocs\", \"experiment-id\")\n",
    "user_simulator_experiment_id = inifile.get(\"ocs\", \"user-simulator-experiment-id\")\n",
    "participant_id = inifile.get(\"ocs\", \"participant-id\")\n",
    "input_path_prefix = os.path.expanduser(inifile.get(\"files\", \"input-path-prefix\"))\n",
    "output_path_prefix = os.path.expanduser(inifile.get(\"files\", \"output-path-prefix\"))\n",
    "athina_api_key = inifile.get(\"athina\", \"athina-api-key\")\n",
    "\n",
    "# initialize OCS and simulation support\n",
    "from ocs_api import OCSAPIClient\n",
    "from ocs_simulation_support import OCSBotToBotSimulator\n",
    "ocs_api_client = OCSAPIClient(ocs_api_key)\n",
    "ocs_simulator = OCSBotToBotSimulator(ocs_api_client, experiment_id, user_simulator_experiment_id, participant_id)\n",
    "\n",
    "# report results\n",
    "print(\"Local configuration loaded, OCS API initialized.\")"
   ],
   "outputs": [
    {
     "name": "stdout",
     "output_type": "stream",
     "text": [
      "Local configuration loaded, OCS API initialized.\n"
     ]
    }
   ],
   "execution_count": 1
  },
  {
   "metadata": {},
   "cell_type": "markdown",
   "source": [
    "## Execute simulations\n",
    "\n",
    "The following code block reads a list of simulations to run from the `simulations_to_run.csv` file in the configured input path, executes them, and saves the results to the `simulation_results.csv` file in the configured output path. \n",
    "\n",
    "`simulations_to_run.csv` should have the following columns:\n",
    "\n",
    "- `context`: a description of the context to simulate, which will be sent to the user simulator experiment as the first message (should include everything needed to simulate a user, including background information, why the user is coming to interact with the bot, etc.)\n",
    "- `simulation_id`: (optional) a unique identifier for the simulation (if not provided, row number will be used)\n",
    "\n",
    "`simulation_results.csv` will have the following columns:\n",
    "\n",
    "- `simulation_id`: the unique identifier for the simulation\n",
    "- `session_id`: the unique identifier for the session\n",
    "- `context`: the context description\n",
    "- `query`: the query sent to the AI assistant\n",
    "- `response`: the response received from the AI assistant"
   ],
   "id": "50f383457bfea424"
  },
  {
   "metadata": {
    "ExecuteTime": {
     "end_time": "2024-09-05T16:09:22.265562Z",
     "start_time": "2024-09-05T16:08:26.060918Z"
    }
   },
   "cell_type": "code",
   "source": [
    "import csv\n",
    "import pandas as pd\n",
    "\n",
    "# load input file using pandas\n",
    "input_file = os.path.join(input_path_prefix, \"simulations_to_run.csv\")\n",
    "simulations_to_run = pd.read_csv(input_file)\n",
    "\n",
    "# assemble simulations to run\n",
    "simulations = []\n",
    "for index, row in simulations_to_run.iterrows():\n",
    "    # if there's a \"simulation_id\" column, use that, otherwise use the row number as the simulation ID\n",
    "    simulation_id = row.get(\"simulation_id\", index+1)\n",
    "    # add to list of simulations to run\n",
    "    simulations.append((str(simulation_id), row[\"context\"]))\n",
    "\n",
    "# execute all the simulations (continuing on error and limiting to 50 exchanges per simulation)\n",
    "results = ocs_simulator.exec_simulations(simulations, continue_on_error=True, max_exchanges=50)\n",
    "\n",
    "# save results to output .csv file\n",
    "output_file = os.path.join(output_path_prefix, \"simulation_results.csv\")\n",
    "output_rows = []\n",
    "with open(output_file, \"w\", newline=\"\") as csvfile:\n",
    "    writer = csv.DictWriter(csvfile, fieldnames=[\"simulation_id\", \"session_id\", \"context\", \"query\", \"response\"], quoting=csv.QUOTE_NONNUMERIC, escapechar='\\\\')\n",
    "    writer.writeheader()\n",
    "    for result in results:\n",
    "        for query, response in result[\"messages\"]:\n",
    "            output_row = {\n",
    "                \"simulation_id\": result[\"simulation_id\"],\n",
    "                \"session_id\": result[\"experiment_session_id\"],\n",
    "                \"context\": result[\"context\"],\n",
    "                \"query\": query,\n",
    "                \"response\": response\n",
    "            }\n",
    "            writer.writerow(output_row)\n",
    "            output_rows.append(output_row)\n",
    "\n",
    "# report results\n",
    "print(f\"Simulations executed and {len(results)} simulation results saved to {output_file}.\")"
   ],
   "id": "ee47737f74e1ff8d",
   "outputs": [
    {
     "name": "stdout",
     "output_type": "stream",
     "text": [
      "Simulations executed and 2 simulation results saved to /Users/crobert/Files/ocs-sim/outputs/simulation_results.csv.\n"
     ]
    }
   ],
   "execution_count": 2
  },
  {
   "metadata": {},
   "cell_type": "markdown",
   "source": [
    "## Optional: Export results to Athina dataset\n",
    "\n",
    "If an Athina API key is configured, the results can be exported to an Athina dataset. The dataset will be named `simulations-{experiment_id}-{timestamp}` and will contain the rows from the `simulation_results.csv` file."
   ],
   "id": "159474a8ddf4ccbf"
  },
  {
   "metadata": {
    "ExecuteTime": {
     "end_time": "2024-09-05T16:09:22.666688Z",
     "start_time": "2024-09-05T16:09:22.274822Z"
    }
   },
   "cell_type": "code",
   "source": [
    "from ocs_simulation_support import athina_create_dataset\n",
    "\n",
    "# optionally export the results to an Athina dataset\n",
    "if athina_api_key:\n",
    "    # push new dataset to Athina\n",
    "    dataset_name = f\"simulations-{experiment_id}-{pd.Timestamp.now().strftime('%Y%m%d%H%M%S')}\"\n",
    "    dataset_description = f\"Simulated conversations for experiment {experiment_id} at {pd.Timestamp.now()}, using user simulator experiment {user_simulator_experiment_id}\"\n",
    "    try:\n",
    "        dataset = athina_create_dataset(athina_api_key=athina_api_key, dataset_name=dataset_name, dataset_description=dataset_description, dataset_rows=output_rows)\n",
    "    except Exception as e:\n",
    "        print(f\"Failed to create Athina dataset: {e}\")\n",
    "    else:\n",
    "        print(f\"Results exported to Athina dataset {dataset.id} (name: {dataset_name}).\")"
   ],
   "id": "f960d4a8f8663260",
   "outputs": [
    {
     "name": "stdout",
     "output_type": "stream",
     "text": [
      "Results exported to Athina dataset 3c389eb5-8ed3-41ce-ab13-778e0e7a3207 (name: simulations-f721dce8-1e6e-4aff-a7ab-81459b255ed8-20240905120922).\n"
     ]
    }
   ],
   "execution_count": 4
  }
 ],
 "metadata": {
  "kernelspec": {
   "display_name": "Python 3",
   "language": "python",
   "name": "python3"
  },
  "language_info": {
   "codemirror_mode": {
    "name": "ipython",
    "version": 2
   },
   "file_extension": ".py",
   "mimetype": "text/x-python",
   "name": "python",
   "nbconvert_exporter": "python",
   "pygments_lexer": "ipython2",
   "version": "2.7.6"
  }
 },
 "nbformat": 4,
 "nbformat_minor": 5
}
